{
 "cells": [
  {
   "cell_type": "code",
   "execution_count": 7,
   "id": "ad4fcbe9",
   "metadata": {},
   "outputs": [
    {
     "name": "stdout",
     "output_type": "stream",
     "text": [
      "<class 'int'>\n"
     ]
    }
   ],
   "source": [
    "print(type(3+7))"
   ]
  },
  {
   "cell_type": "code",
   "execution_count": 6,
   "id": "ad1fa903",
   "metadata": {},
   "outputs": [
    {
     "name": "stdout",
     "output_type": "stream",
     "text": [
      "This is a chunk of text\n"
     ]
    }
   ],
   "source": [
    "print(\"This is a chunk of text\")"
   ]
  },
  {
   "cell_type": "code",
   "execution_count": 11,
   "id": "e05173a9",
   "metadata": {},
   "outputs": [
    {
     "name": "stdout",
     "output_type": "stream",
     "text": [
      "1\n",
      "4\n",
      "9\n"
     ]
    }
   ],
   "source": [
    "sum=0\n",
    "for i in range(1,7,2):\n",
    "    sum=sum+i\n",
    "    print (sum)"
   ]
  },
  {
   "cell_type": "code",
   "execution_count": null,
   "id": "674916e8",
   "metadata": {},
   "outputs": [],
   "source": [
    "Simple Factorial Program"
   ]
  },
  {
   "cell_type": "code",
   "execution_count": 14,
   "id": "cb9a2d4f",
   "metadata": {},
   "outputs": [
    {
     "name": "stdout",
     "output_type": "stream",
     "text": [
      "Enter a non-negative integer to take the factorial of:3\n",
      "6\n"
     ]
    }
   ],
   "source": [
    "\n",
    "number=eval(input(\"Enter a non-negative integer to take the factorial of:\"))\n",
    "product=1\n",
    "for i in range(number):\n",
    "    product=product*(i+1)\n",
    "    \n",
    "print (product)    \n",
    "    \n"
   ]
  },
  {
   "cell_type": "code",
   "execution_count": null,
   "id": "8beada85",
   "metadata": {},
   "outputs": [],
   "source": [
    "iterative function"
   ]
  },
  {
   "cell_type": "code",
   "execution_count": 16,
   "id": "9184aeda",
   "metadata": {},
   "outputs": [
    {
     "name": "stdout",
     "output_type": "stream",
     "text": [
      "Enter a non-negative integer to take the factorial of:5\n",
      "120\n"
     ]
    }
   ],
   "source": [
    "def factorial(number):\n",
    "    product=1\n",
    "    for i in range (number):\n",
    "        product=product*(i+1)\n",
    "    return product   \n",
    "\n",
    "\n",
    "number=eval(input(\"Enter a non-negative integer to take the factorial of:\"))\n",
    "factorial_of_user_input=factorial(number)\n",
    "print(factorial_of_user_input)"
   ]
  },
  {
   "cell_type": "code",
   "execution_count": null,
   "id": "7e727757",
   "metadata": {},
   "outputs": [],
   "source": [
    "Recursive Function"
   ]
  },
  {
   "cell_type": "code",
   "execution_count": 2,
   "id": "55f0abb4",
   "metadata": {},
   "outputs": [
    {
     "name": "stdout",
     "output_type": "stream",
     "text": [
      "Enter a non-negative integer to take the factorial of:5\n",
      "120\n"
     ]
    }
   ],
   "source": [
    "# that is inputted by the user\n",
    "\n",
    "# returns the factorial of the argument number\n",
    "def factorial (number):\n",
    "    if number<=1:\n",
    "        return 1\n",
    "    else:\n",
    "        return number*factorial(number-1)\n",
    "    \n",
    "number=eval(input(\"Enter a non-negative integer to take the factorial of:\"))\n",
    "factorial_of_user_input=factorial(number)\n",
    "print (factorial_of_user_input)"
   ]
  },
  {
   "cell_type": "code",
   "execution_count": null,
   "id": "11e714b5",
   "metadata": {},
   "outputs": [],
   "source": [
    "Fibonacci"
   ]
  },
  {
   "cell_type": "code",
   "execution_count": 8,
   "id": "53c92716",
   "metadata": {},
   "outputs": [
    {
     "data": {
      "text/plain": [
       "32"
      ]
     },
     "execution_count": 8,
     "metadata": {},
     "output_type": "execute_result"
    }
   ],
   "source": [
    "def fibonacci(n):\n",
    "    terms=[0,1]\n",
    "    i=0\n",
    "    while i<=n:\n",
    "        terms.append(terms[i-1]+terms[i-2])\n",
    "        i=i+1\n",
    "    return terms[n]\n",
    "\n",
    "fibonacci(20)\n",
    "    "
   ]
  },
  {
   "cell_type": "code",
   "execution_count": 16,
   "id": "01f7cc2a",
   "metadata": {},
   "outputs": [
    {
     "data": {
      "text/plain": [
       "55"
      ]
     },
     "execution_count": 16,
     "metadata": {},
     "output_type": "execute_result"
    }
   ],
   "source": [
    "def fibonacci(n):\n",
    "    if n==0:\n",
    "        return 0\n",
    "    elif n==1:\n",
    "        return 1\n",
    "    else:\n",
    "        return (fibonacci(n-1)+fibonacci(n-2))\n",
    "    \n",
    "fibonacci(10)    \n",
    "    \n",
    "    "
   ]
  },
  {
   "cell_type": "code",
   "execution_count": null,
   "id": "a9c305ee",
   "metadata": {},
   "outputs": [],
   "source": [
    "Insertion Sort"
   ]
  },
  {
   "cell_type": "code",
   "execution_count": 22,
   "id": "ba9e4484",
   "metadata": {},
   "outputs": [
    {
     "name": "stdout",
     "output_type": "stream",
     "text": [
      "None\n"
     ]
    }
   ],
   "source": [
    "def insertion_sort(list):\n",
    "    for index in range(1, len(list)):\n",
    "        value=list[index]\n",
    "        i=index-1\n",
    "        while i>=0:\n",
    "            if value<list[i]:\n",
    "                list[i+1]=list[i]\n",
    "                i=i-1\n",
    "            else:\n",
    "                break\n",
    "                \n",
    "                \n",
    "a= insertion_sort([3,5,6,6]) \n",
    "print(a)"
   ]
  }
 ],
 "metadata": {
  "kernelspec": {
   "display_name": "Python 3 (ipykernel)",
   "language": "python",
   "name": "python3"
  },
  "language_info": {
   "codemirror_mode": {
    "name": "ipython",
    "version": 3
   },
   "file_extension": ".py",
   "mimetype": "text/x-python",
   "name": "python",
   "nbconvert_exporter": "python",
   "pygments_lexer": "ipython3",
   "version": "3.9.12"
  }
 },
 "nbformat": 4,
 "nbformat_minor": 5
}
